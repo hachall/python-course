{
 "cells": [
  {
   "cell_type": "code",
   "execution_count": 1,
   "metadata": {},
   "outputs": [],
   "source": [
    "import random\n"
   ]
  },
  {
   "cell_type": "code",
   "execution_count": 57,
   "metadata": {},
   "outputs": [
    {
     "name": "stdout",
     "output_type": "stream",
     "text": [
      "Welcome to the guessing game\n",
      "I have picked a number between 1&100, have a guess what it is!\n",
      "49\n"
     ]
    }
   ],
   "source": [
    "print(\"Welcome to the guessing game\")\n",
    "print(\"I have picked a number between 1&100, have a guess what it is!\")\n",
    "print(f\"{num}\")"
   ]
  },
  {
   "cell_type": "code",
   "execution_count": 58,
   "metadata": {},
   "outputs": [
    {
     "name": "stdout",
     "output_type": "stream",
     "text": [
      "What is your guess?80\n"
     ]
    }
   ],
   "source": [
    "guesses.append(int(input(\"What is your guess?\")))"
   ]
  },
  {
   "cell_type": "code",
   "execution_count": 60,
   "metadata": {},
   "outputs": [],
   "source": [
    "guesses.append(60)"
   ]
  },
  {
   "cell_type": "code",
   "execution_count": 61,
   "metadata": {},
   "outputs": [
    {
     "data": {
      "text/plain": [
       "[80, 60]"
      ]
     },
     "execution_count": 61,
     "metadata": {},
     "output_type": "execute_result"
    }
   ],
   "source": [
    "guesses"
   ]
  },
  {
   "cell_type": "code",
   "execution_count": 62,
   "metadata": {},
   "outputs": [],
   "source": [
    "if guesses[-1] < 1 or guesses[-1] > 100:\n",
    "    print(\"Number out of bounds!\")\n",
    "    print(\"Guess again!\")"
   ]
  },
  {
   "cell_type": "code",
   "execution_count": 63,
   "metadata": {},
   "outputs": [],
   "source": [
    "if guesses[-1] == num:\n",
    "    print(\"congratulations you got it!\")"
   ]
  },
  {
   "cell_type": "code",
   "execution_count": 64,
   "metadata": {},
   "outputs": [
    {
     "name": "stdout",
     "output_type": "stream",
     "text": [
      "Warmer\n"
     ]
    }
   ],
   "source": [
    "if len(guesses) == 1:\n",
    "    if abs(guesses[-1] - num) < 10:\n",
    "        print(\"Warm\")\n",
    "    else:\n",
    "        print(\"Cold\")\n",
    "else:\n",
    "    if abs(guesses[-1] - num) < abs(guesses[-2] - num):\n",
    "        print(\"Warmer\")\n",
    "    else: \n",
    "        print(\"Colder\")"
   ]
  },
  {
   "cell_type": "code",
   "execution_count": 5,
   "metadata": {},
   "outputs": [
    {
     "name": "stdout",
     "output_type": "stream",
     "text": [
      "Welcome to the guessing game\n",
      "I have picked a number between 1&100, have a guess what it is!\n",
      "What is your guess?11\n",
      "Warm\n",
      "What is your guess?16\n",
      "Colder\n",
      "What is your guess?7\n",
      "Warmer\n",
      "What is your guess?3\n",
      "Colder\n",
      "What is your guess?9\n",
      "congratulations you got it!\n",
      "Game finished! You got it in 5 goes\n"
     ]
    }
   ],
   "source": [
    "num = random.randint(0,100)\n",
    "guesses = []\n",
    "\n",
    "print(\"Welcome to the guessing game\")\n",
    "print(\"I have picked a number between 1&100, have a guess what it is!\")\n",
    "\n",
    "while True:\n",
    "    guesses.append(int(input(\"What is your guess?\")))\n",
    "    \n",
    "    if guesses[-1] < 1 or guesses[-1] > 100:\n",
    "        print(\"Number out of bounds!\")\n",
    "        print(\"Guess again!\")\n",
    "        guesses.pop()\n",
    "        continue\n",
    "    \n",
    "    if guesses[-1] == num:\n",
    "        print(\"congratulations you got it!\")\n",
    "        break\n",
    "        \n",
    "    if len(guesses) == 1:\n",
    "        if abs(guesses[-1] - num) < 10:\n",
    "            print(\"Warm\")\n",
    "        else:\n",
    "            print(\"Cold\")\n",
    "    else:\n",
    "        if abs(guesses[-1] - num) < abs(guesses[-2] - num):\n",
    "            print(\"Warmer\")\n",
    "        else: \n",
    "            print(\"Colder\")\n",
    "            \n",
    "print(f\"Game finished! You got it in {len(guesses)} goes\")"
   ]
  },
  {
   "cell_type": "code",
   "execution_count": null,
   "metadata": {},
   "outputs": [],
   "source": []
  }
 ],
 "metadata": {
  "kernelspec": {
   "display_name": "Python 3",
   "language": "python",
   "name": "python3"
  },
  "language_info": {
   "codemirror_mode": {
    "name": "ipython",
    "version": 3
   },
   "file_extension": ".py",
   "mimetype": "text/x-python",
   "name": "python",
   "nbconvert_exporter": "python",
   "pygments_lexer": "ipython3",
   "version": "3.7.0"
  }
 },
 "nbformat": 4,
 "nbformat_minor": 2
}
