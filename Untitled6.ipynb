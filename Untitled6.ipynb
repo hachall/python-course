{
 "cells": [
  {
   "cell_type": "code",
   "execution_count": 26,
   "metadata": {},
   "outputs": [],
   "source": [
    "class Cat():\n",
    "    \n",
    "    def __init__(self, input_breed, name):\n",
    "        self.breed = input_breed\n",
    "        self.name = name\n",
    "        print(\"cat being made\")\n",
    "        \n",
    "        \n",
    "    def talk(self):\n",
    "        print(f'meow, my name is {self.name}')\n",
    "        \n",
    "    def __str__(self):\n",
    "        return f\"cat called {self.name}\""
   ]
  },
  {
   "cell_type": "code",
   "execution_count": 27,
   "metadata": {},
   "outputs": [
    {
     "name": "stdout",
     "output_type": "stream",
     "text": [
      "cat being made\n"
     ]
    }
   ],
   "source": [
    "new_cat = Cat('Maine Coon', 'Milo')"
   ]
  },
  {
   "cell_type": "code",
   "execution_count": 24,
   "metadata": {},
   "outputs": [
    {
     "name": "stdout",
     "output_type": "stream",
     "text": [
      "meow, my name is Milo\n"
     ]
    }
   ],
   "source": [
    "new_cat.talk()"
   ]
  },
  {
   "cell_type": "code",
   "execution_count": 25,
   "metadata": {},
   "outputs": [
    {
     "name": "stdout",
     "output_type": "stream",
     "text": [
      "cat called Milo\n"
     ]
    }
   ],
   "source": [
    "print(new_cat)"
   ]
  },
  {
   "cell_type": "code",
   "execution_count": null,
   "metadata": {},
   "outputs": [],
   "source": []
  }
 ],
 "metadata": {
  "kernelspec": {
   "display_name": "Python 3",
   "language": "python",
   "name": "python3"
  },
  "language_info": {
   "codemirror_mode": {
    "name": "ipython",
    "version": 3
   },
   "file_extension": ".py",
   "mimetype": "text/x-python",
   "name": "python",
   "nbconvert_exporter": "python",
   "pygments_lexer": "ipython3",
   "version": "3.7.0"
  }
 },
 "nbformat": 4,
 "nbformat_minor": 2
}
