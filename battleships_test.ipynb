{
 "cells": [
  {
   "cell_type": "code",
   "execution_count": 10,
   "metadata": {},
   "outputs": [],
   "source": [
    "mylis = [1,2,3]"
   ]
  },
  {
   "cell_type": "code",
   "execution_count": null,
   "metadata": {},
   "outputs": [],
   "source": []
  },
  {
   "cell_type": "code",
   "execution_count": null,
   "metadata": {},
   "outputs": [],
   "source": [
    "board[3][3]"
   ]
  },
  {
   "cell_type": "code",
   "execution_count": 11,
   "metadata": {},
   "outputs": [],
   "source": [
    "board = [[]] + [['#'] + ['O' for x in range(1,11)] for x in range(1,11)]"
   ]
  },
  {
   "cell_type": "code",
   "execution_count": 12,
   "metadata": {},
   "outputs": [
    {
     "data": {
      "text/plain": [
       "[[],\n",
       " ['#', 'O', 'O', 'O', 'O', 'O', 'O', 'O', 'O', 'O', 'O'],\n",
       " ['#', 'O', 'O', 'O', 'O', 'O', 'O', 'O', 'O', 'O', 'O'],\n",
       " ['#', 'O', 'O', 'O', 'O', 'O', 'O', 'O', 'O', 'O', 'O'],\n",
       " ['#', 'O', 'O', 'O', 'O', 'O', 'O', 'O', 'O', 'O', 'O'],\n",
       " ['#', 'O', 'O', 'O', 'O', 'O', 'O', 'O', 'O', 'O', 'O'],\n",
       " ['#', 'O', 'O', 'O', 'O', 'O', 'O', 'O', 'O', 'O', 'O'],\n",
       " ['#', 'O', 'O', 'O', 'O', 'O', 'O', 'O', 'O', 'O', 'O'],\n",
       " ['#', 'O', 'O', 'O', 'O', 'O', 'O', 'O', 'O', 'O', 'O'],\n",
       " ['#', 'O', 'O', 'O', 'O', 'O', 'O', 'O', 'O', 'O', 'O'],\n",
       " ['#', 'O', 'O', 'O', 'O', 'O', 'O', 'O', 'O', 'O', 'O']]"
      ]
     },
     "execution_count": 12,
     "metadata": {},
     "output_type": "execute_result"
    }
   ],
   "source": [
    "board"
   ]
  },
  {
   "cell_type": "code",
   "execution_count": 7,
   "metadata": {},
   "outputs": [
    {
     "data": {
      "text/plain": [
       "[['#', 'O', 'O', 'O', 'O', 'O', 'O', 'O', 'O', 'O', 'O'],\n",
       " ['#', 'O', 'O', 'O', 'O', 'O', 'O', 'O', 'O', 'O', 'O'],\n",
       " ['#', 'O', 'O', 'O', 'O', 'O', 'O', 'O', 'O', 'O', 'O'],\n",
       " ['#', 'O', 'O', 'O', 'O', 'O', 'O', 'O', 'O', 'O', 'O'],\n",
       " ['#', 'O', 'O', 'O', 'O', 'O', 'O', 'O', 'O', 'O', 'O'],\n",
       " ['#', 'O', 'O', 'O', 'O', 'O', 'O', 'O', 'O', 'O', 'O'],\n",
       " ['#', 'O', 'O', 'O', 'O', 'O', 'O', 'O', 'O', 'O', 'O'],\n",
       " ['#', 'O', 'O', 'O', 'O', 'O', 'O', 'O', 'O', 'O', 'O'],\n",
       " ['#', 'O', 'O', 'O', 'O', 'O', 'O', 'O', 'O', 'O', 'O'],\n",
       " ['#', 'O', 'O', 'O', 'O', 'O', 'O', 'O', 'O', 'O', 'O']]"
      ]
     },
     "execution_count": 7,
     "metadata": {},
     "output_type": "execute_result"
    }
   ],
   "source": [
    "board"
   ]
  },
  {
   "cell_type": "code",
   "execution_count": null,
   "metadata": {},
   "outputs": [],
   "source": [
    "def display_board(board):\n",
    "    for line in board:\n",
    "        print(' '.join(line[1:]))"
   ]
  },
  {
   "cell_type": "code",
   "execution_count": null,
   "metadata": {},
   "outputs": [],
   "source": [
    "display_board(board)"
   ]
  },
  {
   "cell_type": "code",
   "execution_count": null,
   "metadata": {},
   "outputs": [],
   "source": [
    "def display_ships(board):\n",
    "    a = board\n",
    "    for n, i in enumerate(a):\n",
    "        if i == '-' or i == '|':\n",
    "            a[n] = 'O'\n",
    "    for line in a:\n",
    "        print(' '.join(line[1:]))"
   ]
  },
  {
   "cell_type": "code",
   "execution_count": null,
   "metadata": {},
   "outputs": [],
   "source": [
    "display_ships(board)"
   ]
  },
  {
   "cell_type": "code",
   "execution_count": null,
   "metadata": {},
   "outputs": [],
   "source": [
    "board"
   ]
  },
  {
   "cell_type": "code",
   "execution_count": null,
   "metadata": {},
   "outputs": [],
   "source": [
    "for row in board:\n",
    "    print(' '.join(line[1:]))"
   ]
  },
  {
   "cell_type": "code",
   "execution_count": null,
   "metadata": {},
   "outputs": [],
   "source": []
  },
  {
   "cell_type": "code",
   "execution_count": null,
   "metadata": {},
   "outputs": [],
   "source": [
    "mylist = ['a', 'b', 'c']"
   ]
  },
  {
   "cell_type": "code",
   "execution_count": null,
   "metadata": {},
   "outputs": [],
   "source": [
    "'-'.join(mylist)"
   ]
  },
  {
   "cell_type": "code",
   "execution_count": null,
   "metadata": {},
   "outputs": [],
   "source": []
  },
  {
   "cell_type": "code",
   "execution_count": null,
   "metadata": {},
   "outputs": [],
   "source": [
    "board[3][3:7] = \"*\""
   ]
  },
  {
   "cell_type": "code",
   "execution_count": null,
   "metadata": {},
   "outputs": [],
   "source": [
    "# longer turn logic\n",
    "#     if turn == 'Player 1':\n",
    "#         print(\"Player 1s turn:\")\n",
    "#         print(\"Your grid:\")\n",
    "#         player1.display_board(player1.grid_w_ships)\n",
    "#         print(\"\\n\")\n",
    "#         print(\"Player 2's grid:\")\n",
    "#         player2.display_board(player2.grid_wo_ships)\n",
    "        \n",
    "#         coords = player2.take_guess()\n",
    "#         success = player2.bomb(coords)\n",
    "        \n",
    "#         clear_output()\n",
    "#         print(\"Player 1s turn:\")\n",
    "#         print(\"Your grid:\")\n",
    "#         player1.display_board(player1.grid_w_ships)\n",
    "#         print(\"\\n\")\n",
    "#         print(\"Player 2's grid:\")\n",
    "#         player2.display_board(player2.grid_wo_ships)\n",
    "        \n",
    "#         if success:\n",
    "#             print(\"you hit!\")\n",
    "#             for ship in player2.fleet:\n",
    "#                 if ship.lives ==0:\n",
    "#                     print(f\"you destroyed their {ship.type}\")\n",
    "#             if player2.lives == 0:\n",
    "#                 print(\"you destroyed all of Player 2's fleet!\")\n",
    "#                 print(\"player 1 wins\")\n",
    "#                 break\n",
    "#         else:\n",
    "#             print(\"unlucky you missed\")\n",
    "            \n",
    "#         input(\"when you're ready - press 'enter'\")\n",
    "#         turn = 'Player 2'\n",
    "#         clear_output()\n",
    "#         sleep(3)\n",
    "        \n",
    "#     else:\n",
    "#         print(\"Player 2s turn:\")\n",
    "#         print(\"Your grid:\")\n",
    "#         player2.display_board(player2.grid_w_ships)\n",
    "#         print(\"\\n\")\n",
    "#         print(\"Player 1's grid:\")\n",
    "#         player1.display_board(player1.grid_wo_ships)\n",
    "        \n",
    "#         coords = player1.take_guess()\n",
    "#         success =player1.bomb(coords)\n",
    "        \n",
    "#         clear_output()\n",
    "#         print(\"Player 2s turn:\")\n",
    "#         print(\"Your grid:\")\n",
    "#         player2.display_board(player2.grid_w_ships)\n",
    "#         print(\"\\n\")\n",
    "#         print(\"Player 1's grid:\")\n",
    "#         player1.display_board(player1.grid_wo_ships)\n",
    "        \n",
    "#         if success:\n",
    "#             print(\"you hit!\")\n",
    "#             for ship in player2.fleet:\n",
    "#                 if ship.lives ==0:\n",
    "#                     print(f\"you destroyed their {ship.type}\")\n",
    "#             if player1.lives == 0:\n",
    "#                 print(\"you destroyed all of Player 1's fleet!\")\n",
    "#                 print(\"player 2 wins\")\n",
    "#                 break\n",
    "#         else:\n",
    "#             print(\"unlucky you missed\")\n",
    "        \n",
    "#         input(\"when you're ready - press 'enter'\")\n",
    "#         turn = 'Player 1'\n",
    "#         clear_output()\n",
    "#         sleep(3)\n",
    "\n"
   ]
  },
  {
   "cell_type": "code",
   "execution_count": null,
   "metadata": {},
   "outputs": [],
   "source": []
  },
  {
   "cell_type": "code",
   "execution_count": null,
   "metadata": {},
   "outputs": [],
   "source": []
  },
  {
   "cell_type": "code",
   "execution_count": null,
   "metadata": {},
   "outputs": [],
   "source": []
  }
 ],
 "metadata": {
  "kernelspec": {
   "display_name": "Python 3",
   "language": "python",
   "name": "python3"
  },
  "language_info": {
   "codemirror_mode": {
    "name": "ipython",
    "version": 3
   },
   "file_extension": ".py",
   "mimetype": "text/x-python",
   "name": "python",
   "nbconvert_exporter": "python",
   "pygments_lexer": "ipython3",
   "version": "3.7.0"
  }
 },
 "nbformat": 4,
 "nbformat_minor": 2
}
