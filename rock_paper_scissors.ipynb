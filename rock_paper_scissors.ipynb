{
 "cells": [
  {
   "cell_type": "code",
   "execution_count": 16,
   "metadata": {},
   "outputs": [
    {
     "name": "stdout",
     "output_type": "stream",
     "text": [
      "What do you want to pick?table\n",
      "Pick rock, paper, scissors\n",
      "What do you want to pick?dfds\n",
      "Pick rock, paper, scissors\n",
      "What do you want to pick?sadfas\n",
      "Pick rock, paper, scissors\n",
      "What do you want to pick?paper\n",
      "The computer chose...\n",
      "rock!\n",
      "You win! Well done!\n"
     ]
    }
   ],
   "source": [
    "import time\n",
    "import random\n",
    "won = False\n",
    "choices =[\"rock\", \"paper\", \"scissors\"]\n",
    "# user_choice = \"table\"\n",
    "\n",
    "while won == False:\n",
    "    user_choice = input(\"What do you want to pick?\")\n",
    "    while user_choice not in choices:\n",
    "        print(\"Pick rock, paper, scissors\")\n",
    "        user_choice = input(\"What do you want to pick?\")\n",
    "    \n",
    "    com_choice = random.choice(choices)\n",
    "    time.sleep(1)\n",
    "    print(\"The computer chose...\")\n",
    "    time.sleep(1)\n",
    "    print(f\"{com_choice}!\")\n",
    "    time.sleep(0.5)\n",
    "\n",
    "    if user_choice.lower() == com_choice.lower():\n",
    "        print(\"Draw!\")\n",
    "    elif (user_choice.lower() == \"rock\" and com_choice == \"paper\") or (user_choice.lower() == \"paper\" and com_choice == \"scissors\") or (user_choice.lower() == \"scissors\" and com_choice == \"rock\"):\n",
    "        print(\"You lose!\")\n",
    "        won = True\n",
    "    else:\n",
    "        print(\"You win! Well done!\")\n",
    "        won = True\n"
   ]
  },
  {
   "cell_type": "code",
   "execution_count": null,
   "metadata": {},
   "outputs": [],
   "source": []
  },
  {
   "cell_type": "code",
   "execution_count": null,
   "metadata": {},
   "outputs": [],
   "source": []
  },
  {
   "cell_type": "code",
   "execution_count": 9,
   "metadata": {},
   "outputs": [
    {
     "data": {
      "text/plain": [
       "True"
      ]
     },
     "execution_count": 9,
     "metadata": {},
     "output_type": "execute_result"
    }
   ],
   "source": [
    "23 in [ 1, 23, 3, 4]"
   ]
  },
  {
   "cell_type": "code",
   "execution_count": null,
   "metadata": {},
   "outputs": [],
   "source": []
  },
  {
   "cell_type": "code",
   "execution_count": null,
   "metadata": {},
   "outputs": [],
   "source": []
  },
  {
   "cell_type": "code",
   "execution_count": null,
   "metadata": {},
   "outputs": [],
   "source": []
  }
 ],
 "metadata": {
  "kernelspec": {
   "display_name": "Python 3",
   "language": "python",
   "name": "python3"
  },
  "language_info": {
   "codemirror_mode": {
    "name": "ipython",
    "version": 3
   },
   "file_extension": ".py",
   "mimetype": "text/x-python",
   "name": "python",
   "nbconvert_exporter": "python",
   "pygments_lexer": "ipython3",
   "version": "3.7.0"
  }
 },
 "nbformat": 4,
 "nbformat_minor": 2
}
